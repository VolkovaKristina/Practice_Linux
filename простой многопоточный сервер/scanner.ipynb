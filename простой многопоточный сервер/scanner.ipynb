{
 "cells": [
  {
   "cell_type": "code",
   "execution_count": null,
   "metadata": {},
   "outputs": [],
   "source": [
    "import socket\n",
    "from threading import Thread\n",
    "\n",
    "for port in range(1,100):\n",
    "    sock = socket.socket()\n",
    "    try:\n",
    "        print(port)\n",
    "        sock.connect(('127.0.0.1', port))\n",
    "        print(\"Порт\", i, \"открыт\")\n",
    "    except:\n",
    "        continue\n",
    "    finally:\n",
    "        sock.close()"
   ]
  }
 ],
 "metadata": {
  "kernelspec": {
   "display_name": "Python 3",
   "language": "python",
   "name": "python3"
  },
  "language_info": {
   "codemirror_mode": {
    "name": "ipython",
    "version": 3
   },
   "file_extension": ".py",
   "mimetype": "text/x-python",
   "name": "python",
   "nbconvert_exporter": "python",
   "pygments_lexer": "ipython3",
   "version": "3.7.6"
  }
 },
 "nbformat": 4,
 "nbformat_minor": 4
}
