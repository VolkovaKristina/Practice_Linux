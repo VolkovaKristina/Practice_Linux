{
 "cells": [
  {
   "cell_type": "code",
   "execution_count": null,
   "metadata": {},
   "outputs": [],
   "source": [
    "import socket\n",
    "from time import sleep\n",
    "\n",
    "\n",
    "sock = socket.socket()\n",
    "print(\"Начало соединения с сервером!\")\n",
    "address = input(\"Введите адрес для подключения: \")\n",
    "if not address or address == '':\n",
    "    address = \"localhost\"\n",
    "\n",
    "port = input(\"Введите номер порта: \")\n",
    "if not port or port == '':\n",
    "    port = 9090\n",
    "sock.connect(('localhost', 9090))\n",
    "\n",
    "connection = True\n",
    "\n",
    "send = input()\n",
    "msg = send\n",
    "print(\"Началась отправка данных серверу!\")\n",
    "sock.send(\"user1\".encode())  \n",
    "\n",
    "\n",
    "while True:\n",
    "\n",
    "    send = input()\n",
    "    msg = send\n",
    "    print(\"Началась отправка данных серверу!\")\n",
    "    sock.send(msg.encode())\n",
    "\n",
    "    print(\"Прием данных от сервера!\")\n",
    "    data = sock.recv(1024)\n",
    "    print(data)\n",
    "    print(data.decode())"
   ]
  }
 ],
 "metadata": {
  "kernelspec": {
   "display_name": "Python 3",
   "language": "python",
   "name": "python3"
  },
  "language_info": {
   "codemirror_mode": {
    "name": "ipython",
    "version": 3
   },
   "file_extension": ".py",
   "mimetype": "text/x-python",
   "name": "python",
   "nbconvert_exporter": "python",
   "pygments_lexer": "ipython3",
   "version": "3.7.6"
  }
 },
 "nbformat": 4,
 "nbformat_minor": 4
}
