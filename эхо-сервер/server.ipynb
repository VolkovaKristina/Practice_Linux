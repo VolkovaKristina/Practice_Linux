{
 "cells": [
  {
   "cell_type": "code",
   "execution_count": null,
   "metadata": {},
   "outputs": [
    {
     "name": "stdout",
     "output_type": "stream",
     "text": [
      "Server is running\n",
      "-port is listening\n",
      "-client was connected\n",
      "-process of receiving data from the client\n",
      "-data has been sent to the client\n",
      "-process of receiving data from the client\n",
      "-data has been sent to the client\n",
      "-process of receiving data from the client\n",
      "-data has been sent to the client\n"
     ]
    }
   ],
   "source": [
    "#!/usr/bin/python\n",
    "# -*- coding: utf-8 -*-import socket\n",
    "import socket # импортируем модуль для работы с сокетами\n",
    "\n",
    "print(\"Server is running\")\n",
    "\n",
    "sock = socket.socket() # создать сокет\n",
    "\n",
    "sock.bind(('', 9090)) # передаем два аргумента (хост оставляем пустым для доступности всех интерфейсов и порт)\n",
    "\n",
    "sock.listen(1) #  размер очереди \n",
    "print(\"-port is listening\")\n",
    "\n",
    "conn, addr = sock.accept()  # новый сокет и адрес клиента\n",
    "print(\"-client was connected\")\n",
    "\n",
    "try:\n",
    "    # запускаем цикл для \n",
    "    while True: \n",
    "        data = conn.recv(1024).decode() # подключаем метод recv для подключения данных \n",
    "        print(\"-process of receiving data from the client\")\n",
    "        if not data: \n",
    "            print(\"-client disconnection process\") # если не работает метод подключения \n",
    "            break\n",
    "\n",
    "        conn.send(data.encode()) # переправляем данные \n",
    "        print(\"-data has been sent to the client\")\n",
    "            \n",
    "except:\n",
    "    print(\"Something went wrong\")\n",
    "    \n",
    "finally:  \n",
    "    print(\"-server is stopping\")\n",
    "    sock.close() # закрываем соединение "
   ]
  }
 ],
 "metadata": {
  "kernelspec": {
   "display_name": "Python 3",
   "language": "python",
   "name": "python3"
  },
  "language_info": {
   "codemirror_mode": {
    "name": "ipython",
    "version": 3
   },
   "file_extension": ".py",
   "mimetype": "text/x-python",
   "name": "python",
   "nbconvert_exporter": "python",
   "pygments_lexer": "ipython3",
   "version": "3.7.3"
  }
 },
 "nbformat": 4,
 "nbformat_minor": 2
}
