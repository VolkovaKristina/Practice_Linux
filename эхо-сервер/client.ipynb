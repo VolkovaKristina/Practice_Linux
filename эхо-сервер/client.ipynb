{
 "cells": [
  {
   "cell_type": "code",
   "execution_count": 2,
   "metadata": {},
   "outputs": [
    {
     "name": "stdout",
     "output_type": "stream",
     "text": [
      "-Start client.py\n",
      "-server connection established\n",
      "please write your message\n",
      "уваал\n",
      "-sending data to server\n",
      "-dreceiving data from the server\n",
      "Answer: уваал\n",
      "please write your message\n",
      "алыла\n",
      "-sending data to server\n",
      "-dreceiving data from the server\n",
      "Answer: алыла\n",
      "please write your message\n",
      "тыа\n",
      "-sending data to server\n",
      "-dreceiving data from the server\n",
      "Answer: тыа\n",
      "please write your message\n",
      "exit\n",
      "-sending data to server\n",
      "-dreceiving data from the server\n",
      "Answer: exit\n",
      "-disconnecting from the server\n"
     ]
    }
   ],
   "source": [
    "#!/usr/bin/python\n",
    "# -*- coding: utf-8 -*-import socket\n",
    "import socket\n",
    "\n",
    "print(\"-Start client.py\")\n",
    "sock = socket.socket() \n",
    "\n",
    "sock.connect(('localhost', 9090)) # подключение к серверу\n",
    "print(\"-server connection established\") \n",
    "\n",
    "s = \"0\"\n",
    "while s != \"exit\": # запускаем цикл для проверки и выход из него \n",
    "    s = input(\"please write your message\\n\")\n",
    "    sock.send(s.encode()) # передаем данные  \n",
    "    print(\"-sending data to server\")\n",
    "\n",
    "    print(\"-dreceiving data from the server\")\n",
    "    data = sock.recv(1024).decode() # считываем данные в бесконечном цикле, принимая 1024 байт\n",
    "    print(\"Answer: \" + data) # выводим ответ \n",
    "\n",
    "print(\"-disconnecting from the server\")\n",
    "sock.close() # отключаемся от сервера "
   ]
  },
  {
   "cell_type": "code",
   "execution_count": null,
   "metadata": {},
   "outputs": [],
   "source": []
  },
  {
   "cell_type": "code",
   "execution_count": null,
   "metadata": {},
   "outputs": [],
   "source": []
  }
 ],
 "metadata": {
  "kernelspec": {
   "display_name": "Python 3",
   "language": "python",
   "name": "python3"
  },
  "language_info": {
   "codemirror_mode": {
    "name": "ipython",
    "version": 3
   },
   "file_extension": ".py",
   "mimetype": "text/x-python",
   "name": "python",
   "nbconvert_exporter": "python",
   "pygments_lexer": "ipython3",
   "version": "3.7.6"
  }
 },
 "nbformat": 4,
 "nbformat_minor": 2
}
