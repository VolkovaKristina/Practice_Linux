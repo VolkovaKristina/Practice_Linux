{
 "cells": [
  {
   "cell_type": "code",
   "execution_count": null,
   "metadata": {},
   "outputs": [],
   "source": [
    "from multiprocessing import Process, Pool\n",
    "import numpy as np\n",
    "\n",
    "def element(index, A, B, res):\n",
    "    glodal res\n",
    "    i, j = index\n",
    "    res = 0\n",
    "    N = len(A[0]) or len(B)\n",
    "    for k in range(N):\n",
    "        res += A[i][k] * B[k][j]\n",
    "    return res\n",
    "\n",
    "\n",
    "matrix_a = np.array([1,2,3],[4,5,6])\n",
    "matrix_b = np.array([7,8],[9,10],[11,12])\n",
    "\n",
    "def main():\n",
    "\n",
    "p1 = Process(target=element, args=[(0, 0), matrix_a, matrix_b, res])\n",
    "p1.start()\n",
    "p1.join()\n",
    "\n",
    "print(res)\n",
    "\n",
    "if __name__ == \"__main__\":\n",
    "    main()"
   ]
  }
 ],
 "metadata": {
  "kernelspec": {
   "display_name": "Python 3",
   "language": "python",
   "name": "python3"
  },
  "language_info": {
   "codemirror_mode": {
    "name": "ipython",
    "version": 3
   },
   "file_extension": ".py",
   "mimetype": "text/x-python",
   "name": "python",
   "nbconvert_exporter": "python",
   "pygments_lexer": "ipython3",
   "version": "3.7.3"
  }
 },
 "nbformat": 4,
 "nbformat_minor": 2
}
